{
 "cells": [
  {
   "cell_type": "code",
   "execution_count": null,
   "outputs": [],
   "source": [
    "import numpy as np\n",
    "import scipy.io\n",
    "from scipy.signal import butter, filtfilt, hilbert\n",
    "from sklearn.decomposition import FastICA, PCA\n",
    "from sklearn.discriminant_analysis import LinearDiscriminantAnalysis as LDA\n",
    "from sklearn.model_selection import train_test_split, cross_val_score, StratifiedKFold\n",
    "import os\n",
    "import glob"
   ],
   "metadata": {
    "collapsed": false
   }
  },
  {
   "cell_type": "code",
   "execution_count": null,
   "outputs": [],
   "source": [
    "# 滤波函数\n",
    "def bandpass_filter(data, lowcut, highcut, fs, order=5):\n",
    "    nyquist = 0.5 * fs\n",
    "    low = lowcut / nyquist\n",
    "    high = highcut / nyquist\n",
    "    b, a = butter(order, [low, high], btype='band')\n",
    "    y = filtfilt(b, a, data, axis=-1)\n",
    "    return y"
   ],
   "metadata": {
    "collapsed": false
   }
  },
  {
   "cell_type": "code",
   "execution_count": null,
   "outputs": [],
   "source": [
    "# ICA去噪函数\n",
    "def apply_ica(data, n_components=3):\n",
    "    ica = FastICA(n_components=n_components)\n",
    "    cleaned_data = ica.fit_transform(data)\n",
    "    return cleaned_data"
   ],
   "metadata": {
    "collapsed": false
   }
  },
  {
   "cell_type": "code",
   "execution_count": null,
   "outputs": [],
   "source": [
    "# 计算PLV特征函数\n",
    "def compute_plv(data):\n",
    "    n_samples, n_channels, n_times = data.shape\n",
    "    plv = np.zeros((n_channels, n_channels))\n",
    "\n",
    "    for i in range(n_channels):\n",
    "        for j in range(i + 1, n_channels):\n",
    "            phase_diff = np.angle(hilbert(data[:, i, :])) - np.angle(hilbert(data[:, j, :]))\n",
    "            plv[i, j] = np.abs(np.sum(np.exp(1j * phase_diff), axis=-1)) / n_times\n",
    "\n",
    "    return plv"
   ],
   "metadata": {
    "collapsed": false
   }
  },
  {
   "cell_type": "markdown",
   "source": [],
   "metadata": {
    "collapsed": false
   }
  },
  {
   "cell_type": "code",
   "execution_count": null,
   "outputs": [],
   "source": [
    "# PCA降维函数\n",
    "def apply_pca(data, n_components=10):\n",
    "    pca = PCA(n_components=n_components)\n",
    "    reduced_data = pca.fit_transform(data.reshape(data.shape[0], -1))\n",
    "    return reduced_data\n"
   ],
   "metadata": {
    "collapsed": false
   }
  },
  {
   "cell_type": "code",
   "execution_count": null,
   "outputs": [],
   "source": [
    "# 训练LDA模型并进行交叉验证\n",
    "def train_lda(X, y):\n",
    "    lda = LDA()\n",
    "    skf = StratifiedKFold(n_splits=10)\n",
    "    scores = cross_val_score(lda, X, y, cv=skf)\n",
    "    print(f'Cross-validation accuracy: {np.mean(scores):.2f}')\n",
    "    return lda.fit(X, y)"
   ],
   "metadata": {
    "collapsed": false
   }
  },
  {
   "cell_type": "code",
   "execution_count": null,
   "outputs": [],
   "source": [
    "# 加载.mat文件数据\n",
    "def load_mat_files(directory):\n",
    "    files = glob.glob(os.path.join(directory, '*.mat'))\n",
    "    all_data = []\n",
    "\n",
    "    for file in files:\n",
    "        mat_data = scipy.io.loadmat(file)\n",
    "        for key in mat_data:\n",
    "            if isinstance(mat_data[key], np.ndarray) and mat_data[key].dtype == 'float64':\n",
    "                all_data.append(mat_data[key])\n",
    "\n",
    "    return np.array(all_data)\n"
   ],
   "metadata": {
    "collapsed": false
   }
  },
  {
   "cell_type": "code",
   "execution_count": null,
   "outputs": [],
   "source": [
    "# 划分数据集\n",
    "def split_dataset(data, labels, train_size=0.6, test_size=0.2, val_size=0.2):\n",
    "    X_train, X_temp, y_train, y_temp = train_test_split(data, labels, train_size=train_size, random_state=42)\n",
    "    test_ratio = test_size / (test_size + val_size)\n",
    "    X_test, X_val, y_test, y_val = train_test_split(X_temp, y_temp, test_size=test_ratio, random_state=42)\n",
    "    return X_train, X_test, X_val, y_train, y_test, y_val\n"
   ],
   "metadata": {
    "collapsed": false
   }
  },
  {
   "cell_type": "code",
   "execution_count": null,
   "outputs": [],
   "source": [
    "directory = 'path/to/mat/files'  # 替换为实际.mat文件目录\n",
    "raw_data = load_mat_files(directory)\n",
    "\n",
    "# 创建标签（假设每个文件有一个对应的标签）\n",
    "labels = np.array([i // 15 for i in range(len(raw_data))])\n",
    "\n",
    "# 划分数据集\n",
    "X_train, X_test, X_val, y_train, y_test, y_val = split_dataset(raw_data, labels)\n",
    "\n",
    "# 预处理\n",
    "fs = 250  # 采样频率\n",
    "lowcut = 8.0\n",
    "highcut = 30.0\n",
    "\n",
    "# 对训练数据进行滤波、去噪、特征提取和降维\n",
    "filtered_data_train = bandpass_filter(X_train, lowcut, highcut, fs)\n",
    "cleaned_data_train = apply_ica(filtered_data_train)\n",
    "plv_features_train = compute_plv(cleaned_data_train)\n",
    "reduced_data_train = apply_pca(plv_features_train, n_components=10)\n",
    "\n",
    "# 对测试数据进行相同的处理\n",
    "filtered_data_test = bandpass_filter(X_test, lowcut, highcut, fs)\n",
    "cleaned_data_test = apply_ica(filtered_data_test)\n",
    "plv_features_test = compute_plv(cleaned_data_test)\n",
    "reduced_data_test = apply_pca(plv_features_test, n_components=10)\n",
    "\n",
    "# 对验证数据进行相同的处理\n",
    "filtered_data_val = bandpass_filter(X_val, lowcut, highcut, fs)\n",
    "cleaned_data_val = apply_ica(filtered_data_val)\n",
    "plv_features_val = compute_plv(cleaned_data_val)\n",
    "reduced_data_val = apply_pca(plv_features_val, n_components=10)\n",
    "\n",
    "# 训练LDA模型并进行交叉验证\n",
    "lda_model = train_lda(reduced_data_train, y_train)\n",
    "\n",
    "# 测试和验证\n",
    "y_test_pred = lda_model.predict(reduced_data_test)\n",
    "test_accuracy = accuracy_score(y_test, y_test_pred)\n",
    "print(f'Test accuracy: {test_accuracy:.2f}')\n",
    "\n",
    "y_val_pred = lda_model.predict(reduced_data_val)\n",
    "val_accuracy = accuracy_score(y_val, y_val_pred)\n",
    "print(f'Validation accuracy: {val_accuracy:.2f}')"
   ],
   "metadata": {
    "collapsed": false
   }
  }
 ],
 "metadata": {
  "kernelspec": {
   "display_name": "Python 3",
   "language": "python",
   "name": "python3"
  },
  "language_info": {
   "codemirror_mode": {
    "name": "ipython",
    "version": 2
   },
   "file_extension": ".py",
   "mimetype": "text/x-python",
   "name": "python",
   "nbconvert_exporter": "python",
   "pygments_lexer": "ipython2",
   "version": "2.7.6"
  }
 },
 "nbformat": 4,
 "nbformat_minor": 0
}
